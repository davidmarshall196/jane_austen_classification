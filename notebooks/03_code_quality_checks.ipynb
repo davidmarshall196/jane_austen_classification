{
 "cells": [
  {
   "cell_type": "code",
   "execution_count": 8,
   "metadata": {},
   "outputs": [],
   "source": [
    "try:\n",
    "    import code_quality_functions\n",
    "except ImportError:\n",
    "    import sys\n",
    "    sys.path.append('../')\n",
    "    from src import code_quality_functions"
   ]
  },
  {
   "cell_type": "markdown",
   "metadata": {},
   "source": [
    "## Unit tests"
   ]
  },
  {
   "cell_type": "code",
   "execution_count": 2,
   "metadata": {},
   "outputs": [
    {
     "name": "stdout",
     "output_type": "stream",
     "text": [
      "\u001b[1m============================= test session starts ==============================\u001b[0m\n",
      "platform darwin -- Python 3.9.15, pytest-8.2.2, pluggy-1.5.0 -- /Users/david@inawisdom.com/Documents/Training/jane_austen/jane_austen_venv/bin/python\n",
      "rootdir: /Users/david@inawisdom.com/Documents/Training/jane_austen\n",
      "plugins: anyio-4.4.0\n",
      "\u001b[1mcollecting ... \u001b[0mcollected 2 items\n",
      "\n",
      "../tests/test_preprocessing.py::test_validate_dataframe \u001b[32mPASSED\u001b[0m\u001b[32m           [ 50%]\u001b[0m\n",
      "../tests/test_preprocessing.py::test_tokenize_texts \u001b[32mPASSED\u001b[0m\u001b[32m               [100%]\u001b[0m\n",
      "\n",
      "\u001b[32m============================== \u001b[32m\u001b[1m2 passed\u001b[0m\u001b[32m in 8.45s\u001b[0m\u001b[32m ===============================\u001b[0m\n"
     ]
    }
   ],
   "source": [
    "r = code_quality_functions.run_unit_tests(\n",
    "    '../tests/',\n",
    "    'src'\n",
    ")"
   ]
  },
  {
   "cell_type": "markdown",
   "metadata": {},
   "source": [
    "## Black and Flake8 Checks"
   ]
  },
  {
   "cell_type": "code",
   "execution_count": 9,
   "metadata": {},
   "outputs": [
    {
     "name": "stdout",
     "output_type": "stream",
     "text": [
      "Black Output:\n",
      "reformatted /Users/david@inawisdom.com/Documents/Training/jane_austen/src/main.py\n",
      "reformatted /Users/david@inawisdom.com/Documents/Training/jane_austen/src/prediction.py\n",
      "\n",
      "All done! ✨ 🍰 ✨\n",
      "2 files reformatted, 7 files left unchanged.\n",
      "\n",
      "\n",
      "Flake8 Output:\n",
      "Done. Flake8 has no improvements!\n"
     ]
    },
    {
     "data": {
      "text/plain": [
       "'reformatted /Users/david@inawisdom.com/Documents/Training/jane_austen/src/main.py\\nreformatted /Users/david@inawisdom.com/Documents/Training/jane_austen/src/prediction.py\\n\\nAll done! ✨ 🍰 ✨\\n2 files reformatted, 7 files left unchanged.\\n'"
      ]
     },
     "execution_count": 9,
     "metadata": {},
     "output_type": "execute_result"
    }
   ],
   "source": [
    "code_quality_functions.run_code_quality_checks(\n",
    "        '../src'\n",
    ")"
   ]
  },
  {
   "cell_type": "code",
   "execution_count": null,
   "metadata": {},
   "outputs": [],
   "source": []
  }
 ],
 "metadata": {
  "kernelspec": {
   "display_name": "jane_austen_venv",
   "language": "python",
   "name": "python3"
  },
  "language_info": {
   "codemirror_mode": {
    "name": "ipython",
    "version": 3
   },
   "file_extension": ".py",
   "mimetype": "text/x-python",
   "name": "python",
   "nbconvert_exporter": "python",
   "pygments_lexer": "ipython3",
   "version": "3.9.15"
  }
 },
 "nbformat": 4,
 "nbformat_minor": 2
}
