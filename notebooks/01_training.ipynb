{
 "cells": [
  {
   "cell_type": "code",
   "execution_count": 1,
   "metadata": {},
   "outputs": [],
   "source": [
    "import sys\n",
    "from pathlib import Path\n",
    "project_root = Path().resolve().parent\n",
    "sys.path.append(str(project_root))\n",
    "\n",
    "from src import preprocessing\n",
    "from src import constants\n",
    "from src import training\n",
    "from src import evaluation"
   ]
  },
  {
   "cell_type": "markdown",
   "metadata": {},
   "source": [
    "## Load and validate the training data"
   ]
  },
  {
   "cell_type": "code",
   "execution_count": 2,
   "metadata": {},
   "outputs": [
    {
     "name": "stderr",
     "output_type": "stream",
     "text": [
      "2024-07-15 20:29:03,307 - JaneAustenLogger - INFO - Data validation successful.\n"
     ]
    }
   ],
   "source": [
    "texts, labels = preprocessing.load_data(\n",
    "    constants.DATA_FILE_PATH,\n",
    "    sample_frac=0.1\n",
    ")"
   ]
  },
  {
   "cell_type": "markdown",
   "metadata": {},
   "source": [
    "## Preprocess the data\n",
    "\n",
    "Tokenise and split the data."
   ]
  },
  {
   "cell_type": "code",
   "execution_count": 3,
   "metadata": {},
   "outputs": [
    {
     "name": "stderr",
     "output_type": "stream",
     "text": [
      "2024-07-15 20:29:18,775 - JaneAustenLogger - INFO - Tokenizer saved to ../artefacts/austen_classifier_model_v2\n",
      "2024-07-15 20:29:18,776 - JaneAustenLogger - INFO - Datasets and data loaders prepared successfully.\n"
     ]
    }
   ],
   "source": [
    "tokenizer, train_loader, val_loader, test_loader = preprocessing.preprocess_data(\n",
    "    texts,\n",
    "    labels,\n",
    "    tokenizer=constants.TOKENIZER,\n",
    "    train_size=constants.TRAIN_SIZE,\n",
    "    val_size=constants.VAL_SIZE,\n",
    "    directory=constants.MODEL_FILE_PATH\n",
    ")"
   ]
  },
  {
   "cell_type": "markdown",
   "metadata": {},
   "source": [
    "## Model Training\n",
    "\n",
    "Train a model with a Huggingface distilbert model."
   ]
  },
  {
   "cell_type": "code",
   "execution_count": 4,
   "metadata": {},
   "outputs": [
    {
     "name": "stderr",
     "output_type": "stream",
     "text": [
      "Some weights of DistilBertForSequenceClassification were not initialized from the model checkpoint at distilbert-base-uncased and are newly initialized: ['classifier.bias', 'classifier.weight', 'pre_classifier.bias', 'pre_classifier.weight']\n",
      "You should probably TRAIN this model on a down-stream task to be able to use it for predictions and inference.\n",
      "/Users/david@inawisdom.com/Documents/Training/jane_austen/src/jane_austen_venv/lib/python3.9/site-packages/transformers/optimization.py:591: FutureWarning: This implementation of AdamW is deprecated and will be removed in a future version. Use the PyTorch implementation torch.optim.AdamW instead, or set `no_deprecation_warning=True` to disable this warning\n",
      "  warnings.warn(\n",
      "2024-07-15 20:29:19,591 - JaneAustenLogger - INFO - Beginning training and validation process.\n",
      "2024-07-15 20:29:19,591 - JaneAustenLogger - INFO - Total Epochs: 3\n",
      "2024-07-15 20:29:19,591 - JaneAustenLogger - INFO - Training rows: 3783\n",
      "2024-07-15 20:29:19,592 - JaneAustenLogger - INFO - Validation rows: 3783\n"
     ]
    }
   ],
   "source": [
    "model = training.train_and_validate_model(\n",
    "    constants.MODEL,\n",
    "    train_loader,\n",
    "    val_loader,\n",
    "    num_epochs=constants.NUM_EPOCHS,\n",
    "    directory=constants.MODEL_FILE_PATH\n",
    ")"
   ]
  },
  {
   "cell_type": "markdown",
   "metadata": {},
   "source": [
    "## Evaluation\n",
    "\n",
    "Evaluate the model with F1 Score. Log the results."
   ]
  },
  {
   "cell_type": "code",
   "execution_count": null,
   "metadata": {},
   "outputs": [
    {
     "name": "stderr",
     "output_type": "stream",
     "text": [
      "2024-07-15 20:26:58,391 - JaneAustenLogger - INFO - Evaluation rows: 1237\n",
      "2024-07-15 20:28:43,416 - JaneAustenLogger - INFO - Test Set Evaluation\n",
      "/Users/david@inawisdom.com/Documents/Training/jane_austen/src/jane_austen_venv/lib/python3.9/site-packages/sklearn/metrics/_classification.py:1344: UndefinedMetricWarning: Precision and F-score are ill-defined and being set to 0.0 in labels with no predicted samples. Use `zero_division` parameter to control this behavior.\n",
      "  _warn_prf(average, modifier, msg_start, len(result))\n",
      "/Users/david@inawisdom.com/Documents/Training/jane_austen/src/jane_austen_venv/lib/python3.9/site-packages/sklearn/metrics/_classification.py:1344: UndefinedMetricWarning: Precision and F-score are ill-defined and being set to 0.0 in labels with no predicted samples. Use `zero_division` parameter to control this behavior.\n",
      "  _warn_prf(average, modifier, msg_start, len(result))\n",
      "/Users/david@inawisdom.com/Documents/Training/jane_austen/src/jane_austen_venv/lib/python3.9/site-packages/sklearn/metrics/_classification.py:1344: UndefinedMetricWarning: Precision and F-score are ill-defined and being set to 0.0 in labels with no predicted samples. Use `zero_division` parameter to control this behavior.\n",
      "  _warn_prf(average, modifier, msg_start, len(result))\n",
      "2024-07-15 20:28:43,438 - JaneAustenLogger - INFO - \n",
      "              precision    recall  f1-score   support\n",
      "\n",
      "           0       0.61      1.00      0.76       759\n",
      "           1       0.00      0.00      0.00       478\n",
      "\n",
      "    accuracy                           0.61      1237\n",
      "   macro avg       0.31      0.50      0.38      1237\n",
      "weighted avg       0.38      0.61      0.47      1237\n",
      "\n"
     ]
    }
   ],
   "source": [
    "evaluation.evaluate_model(\n",
    "    model, test_loader\n",
    ")"
   ]
  },
  {
   "cell_type": "code",
   "execution_count": null,
   "metadata": {},
   "outputs": [],
   "source": []
  }
 ],
 "metadata": {
  "kernelspec": {
   "display_name": "Jane Austen Env",
   "language": "python",
   "name": "jane_austen_venv"
  },
  "language_info": {
   "codemirror_mode": {
    "name": "ipython",
    "version": 3
   },
   "file_extension": ".py",
   "mimetype": "text/x-python",
   "name": "python",
   "nbconvert_exporter": "python",
   "pygments_lexer": "ipython3",
   "version": "3.9.15"
  }
 },
 "nbformat": 4,
 "nbformat_minor": 2
}
