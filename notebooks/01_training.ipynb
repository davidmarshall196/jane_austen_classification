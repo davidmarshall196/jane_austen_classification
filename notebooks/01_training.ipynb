{
 "cells": [
  {
   "cell_type": "code",
   "execution_count": 3,
   "metadata": {},
   "outputs": [],
   "source": [
    "import sys\n",
    "from pathlib import Path\n",
    "project_root = Path().resolve().parent\n",
    "sys.path.append(str(project_root))\n",
    "\n",
    "from src import preprocessing\n",
    "from src import constants\n",
    "from src import training\n",
    "from src import evaluation\n"
   ]
  },
  {
   "cell_type": "markdown",
   "metadata": {},
   "source": [
    "## Load and validate the training data"
   ]
  },
  {
   "cell_type": "code",
   "execution_count": 2,
   "metadata": {},
   "outputs": [
    {
     "name": "stderr",
     "output_type": "stream",
     "text": [
      "2024-07-15 17:31:57,477 - JaneAustenLogger - INFO - Data validation successful.\n"
     ]
    }
   ],
   "source": [
    "texts, labels = preprocessing.load_data(\n",
    "    constants.DATA_FILE_PATH\n",
    ")"
   ]
  },
  {
   "cell_type": "markdown",
   "metadata": {},
   "source": [
    "## Preprocess the data\n",
    "\n",
    "Tokenise and split the data."
   ]
  },
  {
   "cell_type": "code",
   "execution_count": 3,
   "metadata": {},
   "outputs": [
    {
     "name": "stderr",
     "output_type": "stream",
     "text": [
      "2024-07-15 17:31:59,629 - JaneAustenLogger - INFO - Tokenizer saved to ../artefacts/austen_classifier_model_v2\n",
      "2024-07-15 17:31:59,630 - JaneAustenLogger - INFO - Datasets and data loaders prepared successfully.\n"
     ]
    }
   ],
   "source": [
    "tokenizer, train_loader, val_loader, test_loader = preprocessing.preprocess_data(\n",
    "    texts,\n",
    "    labels,\n",
    "    tokenizer=constants.TOKENIZER,\n",
    "    train_size=constants.TRAIN_SIZE,\n",
    "    val_size=constants.VAL_SIZE,\n",
    "    directory=constants.MODEL_FILE_PATH\n",
    ")"
   ]
  },
  {
   "cell_type": "markdown",
   "metadata": {},
   "source": [
    "## Model Training\n",
    "\n",
    "Train a model with a Huggingface distilbert model."
   ]
  },
  {
   "cell_type": "code",
   "execution_count": 4,
   "metadata": {},
   "outputs": [
    {
     "name": "stderr",
     "output_type": "stream",
     "text": [
      "Some weights of DistilBertForSequenceClassification were not initialized from the model checkpoint at distilbert-base-uncased and are newly initialized: ['classifier.bias', 'classifier.weight', 'pre_classifier.bias', 'pre_classifier.weight']\n",
      "You should probably TRAIN this model on a down-stream task to be able to use it for predictions and inference.\n",
      "/Users/david@inawisdom.com/Documents/Training/jane_austen/jane_austen_venv/lib/python3.9/site-packages/transformers/optimization.py:591: FutureWarning: This implementation of AdamW is deprecated and will be removed in a future version. Use the PyTorch implementation torch.optim.AdamW instead, or set `no_deprecation_warning=True` to disable this warning\n",
      "  warnings.warn(\n",
      "2024-07-15 17:32:01,653 - JaneAustenLogger - INFO - Beginning training and validation process.\n",
      "2024-07-15 17:32:01,654 - JaneAustenLogger - INFO - Total Epochs: 3\n",
      "2024-07-15 17:32:01,654 - JaneAustenLogger - INFO - Training rows: 63\n",
      "2024-07-15 17:32:01,655 - JaneAustenLogger - INFO - Validation rows: 63\n",
      "2024-07-15 17:32:30,223 - JaneAustenLogger - INFO - Epoch 1/3 completed.\n",
      "2024-07-15 17:32:35,863 - JaneAustenLogger - INFO - Validation Accuracy: 0.6190\n",
      "2024-07-15 17:33:03,839 - JaneAustenLogger - INFO - Epoch 2/3 completed.\n",
      "2024-07-15 17:33:09,226 - JaneAustenLogger - INFO - Validation Accuracy: 0.6984\n",
      "2024-07-15 17:33:37,438 - JaneAustenLogger - INFO - Epoch 3/3 completed.\n",
      "2024-07-15 17:33:42,962 - JaneAustenLogger - INFO - Validation Accuracy: 0.9206\n",
      "2024-07-15 17:33:43,220 - JaneAustenLogger - INFO - Model saved to ../artefacts/austen_classifier_model_v2\n"
     ]
    }
   ],
   "source": [
    "model = training.train_and_validate_model(\n",
    "    constants.MODEL,\n",
    "    train_loader,\n",
    "    val_loader,\n",
    "    num_epochs=constants.NUM_EPOCHS,\n",
    "    directory=constants.MODEL_FILE_PATH\n",
    ")"
   ]
  },
  {
   "cell_type": "markdown",
   "metadata": {},
   "source": [
    "## Evaluation\n",
    "\n",
    "Evaluate the model with F1 Score. Log the results."
   ]
  },
  {
   "cell_type": "code",
   "execution_count": 5,
   "metadata": {},
   "outputs": [
    {
     "name": "stderr",
     "output_type": "stream",
     "text": [
      "2024-07-15 17:35:20,815 - JaneAustenLogger - INFO - Test Set Evaluation\n",
      "2024-07-15 17:35:20,821 - JaneAustenLogger - INFO - \n",
      "              precision    recall  f1-score   support\n",
      "\n",
      "           0       0.85      1.00      0.92       693\n",
      "           1       0.99      0.73      0.84       442\n",
      "\n",
      "    accuracy                           0.89      1135\n",
      "   macro avg       0.92      0.86      0.88      1135\n",
      "weighted avg       0.91      0.89      0.89      1135\n",
      "\n"
     ]
    }
   ],
   "source": [
    "evaluation.evaluate_model(\n",
    "    model, test_loader\n",
    ")"
   ]
  },
  {
   "cell_type": "code",
   "execution_count": null,
   "metadata": {},
   "outputs": [],
   "source": []
  },
  {
   "cell_type": "code",
   "execution_count": null,
   "metadata": {},
   "outputs": [],
   "source": []
  }
 ],
 "metadata": {
  "kernelspec": {
   "display_name": "jane_austen_venv",
   "language": "python",
   "name": "python3"
  },
  "language_info": {
   "codemirror_mode": {
    "name": "ipython",
    "version": 3
   },
   "file_extension": ".py",
   "mimetype": "text/x-python",
   "name": "python",
   "nbconvert_exporter": "python",
   "pygments_lexer": "ipython3",
   "version": "3.9.15"
  }
 },
 "nbformat": 4,
 "nbformat_minor": 2
}
