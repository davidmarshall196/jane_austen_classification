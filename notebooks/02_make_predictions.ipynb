{
 "cells": [
  {
   "cell_type": "code",
   "execution_count": 3,
   "metadata": {},
   "outputs": [],
   "source": [
    "import sys\n",
    "from pathlib import Path\n",
    "project_root = Path().resolve().parent\n",
    "sys.path.append(str(project_root))\n",
    "\n",
    "from src import constants\n",
    "from src import prediction\n",
    "from src import preprocessing"
   ]
  },
  {
   "cell_type": "code",
   "execution_count": 21,
   "metadata": {},
   "outputs": [
    {
     "name": "stderr",
     "output_type": "stream",
     "text": [
      "2024-07-15 16:09:07,776 - JaneAustenLogger - INFO - Data validation successful.\n"
     ]
    },
    {
     "data": {
      "text/plain": [
       "['   Bru. Vnder your pardon. You must note beside,\\nThat we haue tride the vtmost of our Friends:\\nOur Legions are brim full, our cause is ripe,\\nThe Enemy encreaseth euery day,\\nWe at the height, are readie to decline.\\nThere is a Tide in the affayres of men,\\nWhich taken at the Flood, leades on to Fortune:\\nOmitted, all the voyage of their life,\\nIs bound in Shallowes, and in Miseries.\\nOn such a full Sea are we now a-float,\\nAnd we must take the current when it serues,\\nOr loose our Ventures',\n",
       " '\"I don\\'t know,\" said Syme as he sank wearily back in the cushions\\nof his carriage; \"but if it is, it\\'s one of the jokes you talk\\nabout. It\\'s a good-natured one.\"',\n",
       " '\"Certainly.  But what I mean is, that I hope there is nothing\\nin Captain Wentworth\\'s manner of writing to make you suppose\\nhe thinks himself ill-used by his friend, which might appear,\\nyou know, without its being absolutely said.  I should be very sorry\\nthat such a friendship as has subsisted between him and Captain Benwick\\nshould be destroyed, or even wounded, by a circumstance of this sort.\"',\n",
       " '\"He is not my friend,\" said Evan, with the stolidity of a dull\\nchild.',\n",
       " 'MacIan lifted his head and looked at the Master steadily, but\\nTurnbull did not look up.',\n",
       " '\"Upon my word,\" replied Elinor, \"you know much\\nmore of the matter than I do, if you have any reason\\nto expect such a match.\"',\n",
       " '\"That is,\" replied Mr. Knightley, \"she will indulge her even more\\nthan she did you, and believe that she does not indulge her at all.\\nIt will be the only difference.\"',\n",
       " '     After a silence he went on, with more than common gentleness:\\n\"It was a cruel will his wicked father made, and you see he did\\nresent it a little.  He hated the Roman money he had, and grew fonder\\nof the real money denied him.  He not only sold the Collection\\nbit by bit, but sank bit by bit to the basest ways of making money--\\neven to blackmailing his own family in a disguise.  He blackmailed\\nhis brother from Australia for his little forgotten crime (that is why\\nhe took the cab to Wagga Wagga in Putney), he blackmailed his sister\\nfor the theft he alone could have noticed.  And that, by the way,\\nis why she had that supernatural guess when he was away on the sand-dunes.\\nMere figure and gait, however distant, are more likely to remind us\\nof somebody than a well-made-up face quite close.\"',\n",
       " '\"An entertaining retort, in the narrow and deductive manner of\\nthe Middle Ages,\" replied the Professor, calmly, \"but even upon\\nyour own basis I will illustrate my point.  We are up in the sky.\\nIn your religion and all the religions, as far as I know (and I\\nknow everything), the sky is made the symbol of everything that\\nis sacred and merciful.  Well, now you are in the sky, you know\\nbetter.  Phrase it how you like, twist it how you like, you know\\nthat you know better.  You know what are a man\\'s real feelings\\nabout the heavens, when he finds himself alone in the heavens,\\nsurrounded by the heavens.  You know the truth, and the truth is\\nthis.  The heavens are evil, the sky is evil, the stars are evil.\\nThis mere space, this mere quantity, terrifies a man more than\\ntigers or the terrible plague.  You know that since our science\\nhas spoken, the bottom has fallen out of the Universe.  Now,\\nheaven is the hopeless thing, more hopeless than any hell.  Now,\\nif there be any comfort for all your miserable progeny of morbid\\napes, it must be in the earth, underneath you, under the roots of\\nthe grass, in the place where hell was of old.  The fiery crypts,\\nthe lurid cellars of the underworld, to which you once condemned\\nthe wicked, are hideous enough, but at least they are more homely\\nthan the heaven in which we ride.  And the time will come when you\\nwill all hide in them, to escape the horror of the stars.\"',\n",
       " '\"My dear fellow,\" cried Turnbull, rallying a hearty laugh, \"the\\nfancies have really got hold of you.  You mistook some other poor\\ngirl here for her.\"',\n",
       " \"'What IS the use of repeating all that stuff,' the Mock Turtle\\ninterrupted, 'if you don't explain it as you go on? It's by far the most\\nconfusing thing I ever heard!'\",\n",
       " 'His face lengthened immediately; and his voice was the voice\\nof sentiment as he answered.',\n",
       " 'You can get up to date donation information online at:']"
      ]
     },
     "execution_count": 21,
     "metadata": {},
     "output_type": "execute_result"
    }
   ],
   "source": [
    "# Load some sample texts\n",
    "sample_texts, _ = preprocessing.load_data(\n",
    "    constants.DATA_FILE_PATH,\n",
    "    sample_frac=0.001\n",
    ")\n",
    "sample_texts"
   ]
  },
  {
   "cell_type": "code",
   "execution_count": 24,
   "metadata": {},
   "outputs": [
    {
     "data": {
      "text/plain": [
       "[0, 0, 1, 0, 0, 1, 1, 0, 0, 0, 0, 0, 0]"
      ]
     },
     "execution_count": 24,
     "metadata": {},
     "output_type": "execute_result"
    }
   ],
   "source": [
    "preds = prediction.load_and_predict(\n",
    "    constants.MODEL_FILE_PATH,\n",
    "    sample_texts,\n",
    ")\n",
    "preds"
   ]
  }
 ],
 "metadata": {
  "kernelspec": {
   "display_name": "jane_austen_venv",
   "language": "python",
   "name": "python3"
  },
  "language_info": {
   "codemirror_mode": {
    "name": "ipython",
    "version": 3
   },
   "file_extension": ".py",
   "mimetype": "text/x-python",
   "name": "python",
   "nbconvert_exporter": "python",
   "pygments_lexer": "ipython3",
   "version": "3.9.15"
  }
 },
 "nbformat": 4,
 "nbformat_minor": 2
}
