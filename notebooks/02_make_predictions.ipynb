{
 "cells": [
  {
   "cell_type": "code",
   "execution_count": 1,
   "metadata": {},
   "outputs": [],
   "source": [
    "import sys\n",
    "from pathlib import Path\n",
    "project_root = Path().resolve().parent\n",
    "sys.path.append(str(project_root))\n",
    "\n",
    "from src import constants\n",
    "from src import prediction\n",
    "from src import preprocessing"
   ]
  },
  {
   "cell_type": "code",
   "execution_count": 2,
   "metadata": {},
   "outputs": [
    {
     "name": "stderr",
     "output_type": "stream",
     "text": [
      "2024-07-16 08:49:27,592 - JaneAustenLogger - INFO - Data validation successful.\n",
      "2024-07-16 08:49:27,592 - JaneAustenLogger - INFO - Data validation successful.\n"
     ]
    },
    {
     "data": {
      "text/plain": [
       "[\"'Now, I give you fair warning,' shouted the Queen, stamping on the\\nground as she spoke; 'either you or your head must be off, and that in\\nabout half no time! Take your choice!'\",\n",
       " '\"Stop him!\" screamed the populace. \"He\\'ll be out of the gate!\"',\n",
       " '\"I have heard,\" said he, with great compassion,\\n\"of the injustice your friend Mr. Ferrars has suffered\\nfrom his family; for if I understand the matter right,\\nhe has been entirely cast off by them for persevering\\nin his engagement with a very deserving young woman.--\\nHave I been rightly informed?--Is it so?--\"',\n",
       " '\"Yes,\" replied Harriet modestly, but not fearfully--\"I must say\\nthat I have.\"',\n",
       " '\"You shall; and, to be brief, when I quitted Barton\\nlast October,--but this will give you no idea--I must go\\nfarther back.  You will find me a very awkward narrator,\\nMiss Dashwood; I hardly know where to begin.  A short\\naccount of myself, I believe, will be necessary, and it\\nSHALL be a short one.  On such a subject,\" sighing heavily,\\n\"can I have little temptation to be diffuse.\"',\n",
       " 'Alice was not much surprised at this, she was getting so used to queer\\nthings happening. While she was looking at the place where it had been,\\nit suddenly appeared again.',\n",
       " \"   Ham. The inobled Queene?\\n  Pol. That's good: Inobled Queene is good\",\n",
       " \"Some threading Ohio's farm-fields or the woods,\\nSome down Colorado's canons from sources of perpetual snow,\\nSome half-hid in Oregon, or away southward in Texas,\\nSome in the north finding their way to Erie, Niagara, Ottawa,\\nSome to Atlantica's bays, and so to the great salt brine.\",\n",
       " \"   Ham. Being thus benetted round with Villaines,\\nEre I could make a Prologue to my braines,\\nThey had begun the Play. I sate me downe,\\nDeuis'd a new Commission, wrote it faire,\\nI once did hold it as our Statists doe,\\nA basenesse to write faire; and laboured much\\nHow to forget that learning: but Sir now,\\nIt did me Yeomans seriuce: wilt thou know\\nThe effects of what I wrote?\\n  Hor. I, good my Lord\",\n",
       " 'With a bound he was beside the little cluster of his clothes and\\nboots that lay on the lawn; he snatched them up, without waiting\\nto put any of them on; and tucking his sword under his other arm,\\nwent wildly at the wall at the bottom of the garden and swung\\nhimself over it.  Three seconds after he had alighted in his socks\\non the other side, MacIan alighted beside him, also in his socks\\nand also carrying clothes and sword in a desperate bundle.',\n",
       " '\"Poor Mrs. Churchill! no doubt she had been suffering a great deal:\\nmore than any body had ever supposed--and continual pain would try\\nthe temper.  It was a sad event--a great shock--with all her faults,\\nwhat would Mr. Churchill do without her?  Mr. Churchill\\'s loss\\nwould be dreadful indeed.  Mr. Churchill would never get over it.\"--\\nEven Mr. Weston shook his head, and looked solemn, and said,\\n\"Ah! poor woman, who would have thought it!\" and resolved, that his\\nmourning should be as handsome as possible; and his wife sat sighing\\nand moralising over her broad hems with a commiseration and good sense,\\ntrue and steady.  How it would affect Frank was among the earliest\\nthoughts of both.  It was also a very early speculation with Emma.\\nThe character of Mrs. Churchill, the grief of her husband--her mind\\nglanced over them both with awe and compassion--and then rested\\nwith lightened feelings on how Frank might be affected by the event,\\nhow benefited, how freed.  She saw in a moment all the possible good.\\nNow, an attachment to Harriet Smith would have nothing to encounter.\\nMr. Churchill, independent of his wife, was feared by nobody;\\nan easy, guidable man, to be persuaded into any thing by his nephew.\\nAll that remained to be wished was, that the nephew should form\\nthe attachment, as, with all her goodwill in the cause, Emma could feel\\nno certainty of its being already formed.',\n",
       " '\\nIt may be possible to do without dancing entirely.  Instances have\\nbeen known of young people passing many, many months successively,\\nwithout being at any ball of any description, and no material injury\\naccrue either to body or mind;--but when a beginning is made--\\nwhen the felicities of rapid motion have once been, though slightly,\\nfelt--it must be a very heavy set that does not ask for more.',\n",
       " '\"I am to hear from him soon,\" continued Mrs. Weston.  \"He told me\\nat parting, that he should soon write; and he spoke in a manner which\\nseemed to promise me many particulars that could not be given now.\\nLet us wait, therefore, for this letter.  It may bring many extenuations.\\nIt may make many things intelligible and excusable which now are\\nnot to be understood.  Don\\'t let us be severe, don\\'t let us be in\\na hurry to condemn him.  Let us have patience.  I must love him;\\nand now that I am satisfied on one point, the one material point,\\nI am sincerely anxious for its all turning out well, and ready\\nto hope that it may.  They must both have suffered a great deal\\nunder such a system of secresy and concealment.\"']"
      ]
     },
     "execution_count": 2,
     "metadata": {},
     "output_type": "execute_result"
    }
   ],
   "source": [
    "# Load some sample texts\n",
    "sample_texts, _ = preprocessing.load_data(\n",
    "    constants.DATA_FILE_PATH,\n",
    "    sample_frac=0.001\n",
    ")\n",
    "sample_texts"
   ]
  },
  {
   "cell_type": "code",
   "execution_count": 3,
   "metadata": {},
   "outputs": [
    {
     "data": {
      "text/plain": [
       "[0, 0, 1, 1, 1, 0, 0, 0, 0, 0, 1, 1, 1]"
      ]
     },
     "execution_count": 3,
     "metadata": {},
     "output_type": "execute_result"
    }
   ],
   "source": [
    "preds = prediction.load_and_predict(\n",
    "    constants.MODEL_FILE_PATH,\n",
    "    sample_texts,\n",
    ")\n",
    "preds"
   ]
  },
  {
   "cell_type": "code",
   "execution_count": null,
   "metadata": {},
   "outputs": [],
   "source": []
  },
  {
   "cell_type": "code",
   "execution_count": null,
   "metadata": {},
   "outputs": [],
   "source": []
  }
 ],
 "metadata": {
  "kernelspec": {
   "display_name": "Jane Austen Env",
   "language": "python",
   "name": "jane_austen_venv"
  },
  "language_info": {
   "codemirror_mode": {
    "name": "ipython",
    "version": 3
   },
   "file_extension": ".py",
   "mimetype": "text/x-python",
   "name": "python",
   "nbconvert_exporter": "python",
   "pygments_lexer": "ipython3",
   "version": "3.9.15"
  }
 },
 "nbformat": 4,
 "nbformat_minor": 2
}
